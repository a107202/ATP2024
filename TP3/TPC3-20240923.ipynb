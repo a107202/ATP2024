{
 "cells": [
  {
   "cell_type": "code",
   "execution_count": 4,
   "id": "31aa07b8",
   "metadata": {},
   "outputs": [
    {
     "name": "stdout",
     "output_type": "stream",
     "text": [
      "Bem-vindo ao jogo dos 21 fosforos!\n",
      "Quem retirar o último fosforo perde o jogo.\n",
      "\n",
      "Escolha o modo de jogo:\n",
      "1 - O jogador começa.\n",
      "2 - O computador começs.\n",
      "\n",
      "Modo 1: Começa a jogar.\n",
      "Fosforos restantes: 21\n",
      "Fosforos restantes: 18\n",
      "Computados tirou 3 fosforos.\n",
      "Fosforos restantes: 15\n",
      "Fosforos restantes: 13\n",
      "Computados tirou 3 fosforos.\n",
      "Fosforos restantes: 10\n",
      "Fosforos restantes: 6\n",
      "Computados tirou 1 fosforos.\n",
      "Fosforos restantes: 5\n",
      "Fosforos restantes: 2\n",
      "Computados tirou 2 fosforos.\n",
      "Ganhou! O computador tirou o último fosforo.\n"
     ]
    }
   ],
   "source": [
    "import random\n",
    "def computador_joga(fosforos):\n",
    "    if fosforos %5 == 0:\n",
    "        jogada = random.randint(1,4)\n",
    "    else:\n",
    "        jogada = fosforos % 5\n",
    "    print(f\"Computados tirou {jogada} fosforos.\")\n",
    "    return jogada\n",
    "def jogador_joga():\n",
    "    while True:\n",
    "        try:\n",
    "            jogada = int(input(\"Quantos fosforos quer tirar? (1-4):\"))\n",
    "            if jogada in [1, 2, 3, 4]:\n",
    "                return jogada\n",
    "            else:\n",
    "                print(\"Jogada inválida. Insira um número entre 1 e 4.\")\n",
    "        except ValueError:\n",
    "            print(\"Entrada inválida. Insira im número entre 1 e 4.\")\n",
    "def modo_jogador_primeiro():\n",
    "    fosforos = 21\n",
    "    print(\"\\nModo 1: Começa a jogar.\")\n",
    "    while fosforos > 0:\n",
    "        print(f\"Fosforos restantes: {fosforos}\")\n",
    "        jogada_jogador = jogador_joga()\n",
    "        fosforos -= jogada_jogador\n",
    "        if fosforos <= 0:\n",
    "            print(\"Perdeu! Retirou o último fosforo.\")\n",
    "            break\n",
    "        print(f\"Fosforos restantes: {fosforos}\")\n",
    "        jogada_computador = computador_joga(fosforos)\n",
    "        fosforos -=jogada_computador\n",
    "        if fosforos <= 0:\n",
    "            print(\"Ganhou! O computador tirou o último fosforo.\")\n",
    "            break\n",
    "def modo_computador_primeiro():\n",
    "    fosforos = 21\n",
    "    print(\"\\nModos 2: O computador começa a jogar.\")\n",
    "    while fosforos > 0:\n",
    "        print(f\"Fosforos restantes: {fosforos}\")\n",
    "        jogada_computador = computador_joga(fosforos)\n",
    "        fosforos -= jogada_computador\n",
    "        if fosforos <= 0:\n",
    "            print(\"Perdeu! Retirou o último fosforo.\")\n",
    "            break\n",
    "def iniciar_jogo():\n",
    "    print(\"Bem-vindo ao jogo dos 21 fosforos!\")\n",
    "    print(\"Quem retirar o último fosforo perde o jogo.\")\n",
    "    while True:\n",
    "        print(\"\\nEscolha o modo de jogo:\")\n",
    "        print(\"1 - O jogador começa.\")\n",
    "        print(\"2 - O computador começa.\")\n",
    "        modo = input(\"Digite o número do modo:\")\n",
    "        if modo == '1':\n",
    "            modo_jogador_primeiro()\n",
    "            break\n",
    "        elif modo == '2':\n",
    "            modo_computador_primeiro()\n",
    "            break\n",
    "        else:\n",
    "            print(\"Opção inválida. Tente novamente.\")\n",
    "iniciar_jogo()\n"
   ]
  }
 ],
 "metadata": {
  "kernelspec": {
   "display_name": "Python 3.9.7 64-bit",
   "language": "python",
   "name": "python3"
  },
  "language_info": {
   "codemirror_mode": {
    "name": "ipython",
    "version": 3
   },
   "file_extension": ".py",
   "mimetype": "text/x-python",
   "name": "python",
   "nbconvert_exporter": "python",
   "pygments_lexer": "ipython3",
   "version": "3.12.6"
  },
  "vscode": {
   "interpreter": {
    "hash": "916dbcbb3f70747c44a77c7bcd40155683ae19c65e1c03b4aa3499c5328201f1"
   }
  }
 },
 "nbformat": 4,
 "nbformat_minor": 5
}
